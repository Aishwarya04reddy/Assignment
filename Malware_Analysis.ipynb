{
  "cells": [
    {
      "cell_type": "code",
      "execution_count": null,
      "id": "b2950a45",
      "metadata": {
        "id": "b2950a45"
      },
      "outputs": [],
      "source": [
        "# Importing pandas\n",
        "import pandas as pd"
      ]
    },
    {
      "cell_type": "code",
      "execution_count": null,
      "id": "56a20555",
      "metadata": {
        "id": "56a20555"
      },
      "outputs": [],
      "source": [
        "# Reading the dataset\n",
        "df=pd.read_csv(r\"C:\\Users\\Admin\\Downloads\\Report_of_Connection_Events_all_without_classification.csv\",low_memory=False)"
      ]
    },
    {
      "cell_type": "code",
      "execution_count": null,
      "id": "21b1c1e3",
      "metadata": {
        "id": "21b1c1e3",
        "outputId": "edd5dd2e-f65f-4c77-b36d-a28622721771"
      },
      "outputs": [
        {
          "name": "stdout",
          "output_type": "stream",
          "text": [
            "          First Packet Last Packet Action Reason    Initiator IP  \\\n",
            "0     11/23/2021 13:40         NaN  Allow    NaN      10.41.1.12   \n",
            "1     11/23/2021 13:40         NaN  Allow    NaN     10.41.0.145   \n",
            "2     11/23/2021 13:40         NaN  Allow    NaN       10.41.1.8   \n",
            "3     11/23/2021 13:40         NaN  Allow    NaN     10.41.0.204   \n",
            "4     11/23/2021 13:40         NaN  Allow    NaN     10.41.0.208   \n",
            "...                ...         ...    ...    ...             ...   \n",
            "8276  11/23/2021 12:40         NaN  Allow    NaN     10.41.0.193   \n",
            "8277  11/23/2021 12:40         NaN  Block    NaN  183.211.186.29   \n",
            "8278  11/23/2021 12:40         NaN  Allow    NaN     10.41.0.193   \n",
            "8279  11/23/2021 12:40         NaN  Block    NaN   111.9.169.224   \n",
            "8280  11/23/2021 12:40         NaN  Allow    NaN     10.41.0.193   \n",
            "\n",
            "     Initiator Continent Initiator Country  Initiator User     Responder IP  \\\n",
            "0                    NaN               NaN             0.0          8.8.8.8   \n",
            "1                    NaN               NaN             0.0          8.8.8.8   \n",
            "2                    NaN               NaN             0.0          8.8.8.8   \n",
            "3                    NaN               NaN             0.0  172.217.194.192   \n",
            "4                    NaN               NaN             0.0     216.239.35.8   \n",
            "...                  ...               ...             ...              ...   \n",
            "8276                 NaN               NaN             NaN  164.100.166.154   \n",
            "8277                Asia               CHN             NaN      10.41.0.118   \n",
            "8278                 NaN               NaN             NaN  164.100.166.154   \n",
            "8279                Asia               CHN             NaN      10.41.0.118   \n",
            "8280                 NaN               NaN             NaN   142.250.182.14   \n",
            "\n",
            "     Responder Continent  ... QoS-Dropped Responder Packets  Initiator Bytes  \\\n",
            "0          North America  ...                             0               74   \n",
            "1          North America  ...                             0               98   \n",
            "2          North America  ...                             0               74   \n",
            "3          North America  ...                             0              291   \n",
            "4          North America  ...                             0               90   \n",
            "...                  ...  ...                           ...              ...   \n",
            "8276                Asia  ...                             0              691   \n",
            "8277                 NaN  ...                             0                0   \n",
            "8278                Asia  ...                             0              691   \n",
            "8279                 NaN  ...                             0                0   \n",
            "8280       North America  ...                             0              691   \n",
            "\n",
            "      Responder Bytes  QoS-Dropped Initiator Bytes  \\\n",
            "0                  74                            0   \n",
            "1                   0                            0   \n",
            "2                  74                            0   \n",
            "3                2942                            0   \n",
            "4                   0                            0   \n",
            "...               ...                          ...   \n",
            "8276               66                            0   \n",
            "8277                0                            0   \n",
            "8278               66                            0   \n",
            "8279                0                            0   \n",
            "8280               66                            0   \n",
            "\n",
            "      QoS-Dropped Responder Bytes Source IP Dynamic Attribute  \\\n",
            "0                               0                         0.0   \n",
            "1                               0                         NaN   \n",
            "2                               0                         NaN   \n",
            "3                               0                         NaN   \n",
            "4                               0                         NaN   \n",
            "...                           ...                         ...   \n",
            "8276                            0                         NaN   \n",
            "8277                            0                         NaN   \n",
            "8278                            0                         NaN   \n",
            "8279                            0                         NaN   \n",
            "8280                            0                         NaN   \n",
            "\n",
            "     Destination IP Dynamic Attribute  Unnamed: 98 Unnamed: 99  \\\n",
            "0                                 0.0          NaN         NaN   \n",
            "1                                 NaN          NaN         NaN   \n",
            "2                                 NaN          NaN         NaN   \n",
            "3                                 NaN          NaN         NaN   \n",
            "4                                 NaN          NaN         NaN   \n",
            "...                               ...          ...         ...   \n",
            "8276                              NaN          NaN         NaN   \n",
            "8277                              NaN          NaN         NaN   \n",
            "8278                              NaN          NaN         NaN   \n",
            "8279                              NaN          NaN         NaN   \n",
            "8280                              NaN          NaN         NaN   \n",
            "\n",
            "      Source Port / ICMP Type  \n",
            "0                 38367 / tcp  \n",
            "1     8 (Echo Request) / icmp  \n",
            "2                 49178 / tcp  \n",
            "3                 56176 / tcp  \n",
            "4                 37584 / udp  \n",
            "...                       ...  \n",
            "8276               2720 / tcp  \n",
            "8277               4771 / udp  \n",
            "8278               2721 / tcp  \n",
            "8279              53189 / udp  \n",
            "8280               2722 / tcp  \n",
            "\n",
            "[8281 rows x 101 columns]\n"
          ]
        }
      ],
      "source": [
        "# Printing the dataset\n",
        "print(df)"
      ]
    },
    {
      "cell_type": "code",
      "execution_count": null,
      "id": "e59b9644",
      "metadata": {
        "id": "e59b9644"
      },
      "outputs": [],
      "source": [
        "df['Action'] =df.Action.map({'Allow':0, 'Block':1, 'Block with reset':1})\n",
        "#1 for malware and 0 for benign"
      ]
    },
    {
      "cell_type": "code",
      "execution_count": null,
      "id": "04c1065d",
      "metadata": {
        "id": "04c1065d",
        "outputId": "374f414c-2a55-4cfe-ebe4-333c0a4aa0fa"
      },
      "outputs": [
        {
          "data": {
            "text/plain": [
              "0    7846\n",
              "1     435\n",
              "Name: Action, dtype: int64"
            ]
          },
          "execution_count": 5,
          "metadata": {},
          "output_type": "execute_result"
        }
      ],
      "source": [
        "# Counting the number of malicious and benign rows\n",
        "df['Action'].value_counts()"
      ]
    },
    {
      "cell_type": "code",
      "execution_count": null,
      "id": "d028276b",
      "metadata": {
        "id": "d028276b"
      },
      "outputs": [],
      "source": [
        "df['IngressInterface'] =df.IngressInterface.map({'inside':0, 'outside':1})"
      ]
    },
    {
      "cell_type": "code",
      "execution_count": null,
      "id": "b2b0edd7",
      "metadata": {
        "id": "b2b0edd7",
        "outputId": "b9c6b891-1e93-491a-81d4-f2f662e4c729"
      },
      "outputs": [
        {
          "data": {
            "text/plain": [
              "0    7989\n",
              "1     292\n",
              "Name: IngressInterface, dtype: int64"
            ]
          },
          "execution_count": 7,
          "metadata": {},
          "output_type": "execute_result"
        }
      ],
      "source": [
        "df['IngressInterface'].value_counts()"
      ]
    },
    {
      "cell_type": "code",
      "execution_count": null,
      "id": "12faa1aa",
      "metadata": {
        "id": "12faa1aa",
        "outputId": "e71bfecd-55ff-4683-a8cd-2dc3472166a0"
      },
      "outputs": [
        {
          "data": {
            "text/plain": [
              "Index(['First Packet', 'Last Packet', 'Action', 'Reason', 'Initiator IP',\n",
              "       'Initiator Continent', 'Initiator Country', 'Initiator User',\n",
              "       'Responder IP', 'Responder Continent',\n",
              "       ...\n",
              "       'QoS-Dropped Responder Packets', 'Initiator Bytes', 'Responder Bytes',\n",
              "       'QoS-Dropped Initiator Bytes', 'QoS-Dropped Responder Bytes',\n",
              "       'Source IP Dynamic Attribute', 'Destination IP Dynamic Attribute',\n",
              "       'Unnamed: 98', 'Unnamed: 99', 'Source Port / ICMP Type'],\n",
              "      dtype='object', length=101)"
            ]
          },
          "execution_count": 8,
          "metadata": {},
          "output_type": "execute_result"
        }
      ],
      "source": [
        "# Printing the column names\n",
        "feature_names = df.columns\n",
        "feature_names"
      ]
    },
    {
      "cell_type": "code",
      "execution_count": null,
      "id": "cf11f6bf",
      "metadata": {
        "id": "cf11f6bf",
        "outputId": "3073ddc1-a6f3-4232-9f4d-98aad1032030"
      },
      "outputs": [
        {
          "data": {
            "text/html": [
              "<div>\n",
              "<style scoped>\n",
              "    .dataframe tbody tr th:only-of-type {\n",
              "        vertical-align: middle;\n",
              "    }\n",
              "\n",
              "    .dataframe tbody tr th {\n",
              "        vertical-align: top;\n",
              "    }\n",
              "\n",
              "    .dataframe thead th {\n",
              "        text-align: right;\n",
              "    }\n",
              "</style>\n",
              "<table border=\"1\" class=\"dataframe\">\n",
              "  <thead>\n",
              "    <tr style=\"text-align: right;\">\n",
              "      <th></th>\n",
              "      <th>First Packet</th>\n",
              "      <th>Last Packet</th>\n",
              "      <th>Action</th>\n",
              "      <th>Reason</th>\n",
              "      <th>Initiator IP</th>\n",
              "      <th>Initiator Continent</th>\n",
              "      <th>Initiator Country</th>\n",
              "      <th>Initiator User</th>\n",
              "      <th>Responder IP</th>\n",
              "      <th>Responder Continent</th>\n",
              "      <th>...</th>\n",
              "      <th>QoS-Dropped Responder Packets</th>\n",
              "      <th>Initiator Bytes</th>\n",
              "      <th>Responder Bytes</th>\n",
              "      <th>QoS-Dropped Initiator Bytes</th>\n",
              "      <th>QoS-Dropped Responder Bytes</th>\n",
              "      <th>Source IP Dynamic Attribute</th>\n",
              "      <th>Destination IP Dynamic Attribute</th>\n",
              "      <th>Unnamed: 98</th>\n",
              "      <th>Unnamed: 99</th>\n",
              "      <th>Source Port / ICMP Type</th>\n",
              "    </tr>\n",
              "  </thead>\n",
              "  <tbody>\n",
              "    <tr>\n",
              "      <th>0</th>\n",
              "      <td>False</td>\n",
              "      <td>True</td>\n",
              "      <td>False</td>\n",
              "      <td>True</td>\n",
              "      <td>False</td>\n",
              "      <td>True</td>\n",
              "      <td>True</td>\n",
              "      <td>False</td>\n",
              "      <td>False</td>\n",
              "      <td>False</td>\n",
              "      <td>...</td>\n",
              "      <td>False</td>\n",
              "      <td>False</td>\n",
              "      <td>False</td>\n",
              "      <td>False</td>\n",
              "      <td>False</td>\n",
              "      <td>False</td>\n",
              "      <td>False</td>\n",
              "      <td>True</td>\n",
              "      <td>True</td>\n",
              "      <td>False</td>\n",
              "    </tr>\n",
              "    <tr>\n",
              "      <th>1</th>\n",
              "      <td>False</td>\n",
              "      <td>True</td>\n",
              "      <td>False</td>\n",
              "      <td>True</td>\n",
              "      <td>False</td>\n",
              "      <td>True</td>\n",
              "      <td>True</td>\n",
              "      <td>False</td>\n",
              "      <td>False</td>\n",
              "      <td>False</td>\n",
              "      <td>...</td>\n",
              "      <td>False</td>\n",
              "      <td>False</td>\n",
              "      <td>False</td>\n",
              "      <td>False</td>\n",
              "      <td>False</td>\n",
              "      <td>True</td>\n",
              "      <td>True</td>\n",
              "      <td>True</td>\n",
              "      <td>True</td>\n",
              "      <td>False</td>\n",
              "    </tr>\n",
              "    <tr>\n",
              "      <th>2</th>\n",
              "      <td>False</td>\n",
              "      <td>True</td>\n",
              "      <td>False</td>\n",
              "      <td>True</td>\n",
              "      <td>False</td>\n",
              "      <td>True</td>\n",
              "      <td>True</td>\n",
              "      <td>False</td>\n",
              "      <td>False</td>\n",
              "      <td>False</td>\n",
              "      <td>...</td>\n",
              "      <td>False</td>\n",
              "      <td>False</td>\n",
              "      <td>False</td>\n",
              "      <td>False</td>\n",
              "      <td>False</td>\n",
              "      <td>True</td>\n",
              "      <td>True</td>\n",
              "      <td>True</td>\n",
              "      <td>True</td>\n",
              "      <td>False</td>\n",
              "    </tr>\n",
              "    <tr>\n",
              "      <th>3</th>\n",
              "      <td>False</td>\n",
              "      <td>True</td>\n",
              "      <td>False</td>\n",
              "      <td>True</td>\n",
              "      <td>False</td>\n",
              "      <td>True</td>\n",
              "      <td>True</td>\n",
              "      <td>False</td>\n",
              "      <td>False</td>\n",
              "      <td>False</td>\n",
              "      <td>...</td>\n",
              "      <td>False</td>\n",
              "      <td>False</td>\n",
              "      <td>False</td>\n",
              "      <td>False</td>\n",
              "      <td>False</td>\n",
              "      <td>True</td>\n",
              "      <td>True</td>\n",
              "      <td>True</td>\n",
              "      <td>True</td>\n",
              "      <td>False</td>\n",
              "    </tr>\n",
              "    <tr>\n",
              "      <th>4</th>\n",
              "      <td>False</td>\n",
              "      <td>True</td>\n",
              "      <td>False</td>\n",
              "      <td>True</td>\n",
              "      <td>False</td>\n",
              "      <td>True</td>\n",
              "      <td>True</td>\n",
              "      <td>False</td>\n",
              "      <td>False</td>\n",
              "      <td>False</td>\n",
              "      <td>...</td>\n",
              "      <td>False</td>\n",
              "      <td>False</td>\n",
              "      <td>False</td>\n",
              "      <td>False</td>\n",
              "      <td>False</td>\n",
              "      <td>True</td>\n",
              "      <td>True</td>\n",
              "      <td>True</td>\n",
              "      <td>True</td>\n",
              "      <td>False</td>\n",
              "    </tr>\n",
              "    <tr>\n",
              "      <th>...</th>\n",
              "      <td>...</td>\n",
              "      <td>...</td>\n",
              "      <td>...</td>\n",
              "      <td>...</td>\n",
              "      <td>...</td>\n",
              "      <td>...</td>\n",
              "      <td>...</td>\n",
              "      <td>...</td>\n",
              "      <td>...</td>\n",
              "      <td>...</td>\n",
              "      <td>...</td>\n",
              "      <td>...</td>\n",
              "      <td>...</td>\n",
              "      <td>...</td>\n",
              "      <td>...</td>\n",
              "      <td>...</td>\n",
              "      <td>...</td>\n",
              "      <td>...</td>\n",
              "      <td>...</td>\n",
              "      <td>...</td>\n",
              "      <td>...</td>\n",
              "    </tr>\n",
              "    <tr>\n",
              "      <th>8276</th>\n",
              "      <td>False</td>\n",
              "      <td>True</td>\n",
              "      <td>False</td>\n",
              "      <td>True</td>\n",
              "      <td>False</td>\n",
              "      <td>True</td>\n",
              "      <td>True</td>\n",
              "      <td>True</td>\n",
              "      <td>False</td>\n",
              "      <td>False</td>\n",
              "      <td>...</td>\n",
              "      <td>False</td>\n",
              "      <td>False</td>\n",
              "      <td>False</td>\n",
              "      <td>False</td>\n",
              "      <td>False</td>\n",
              "      <td>True</td>\n",
              "      <td>True</td>\n",
              "      <td>True</td>\n",
              "      <td>True</td>\n",
              "      <td>False</td>\n",
              "    </tr>\n",
              "    <tr>\n",
              "      <th>8277</th>\n",
              "      <td>False</td>\n",
              "      <td>True</td>\n",
              "      <td>False</td>\n",
              "      <td>True</td>\n",
              "      <td>False</td>\n",
              "      <td>False</td>\n",
              "      <td>False</td>\n",
              "      <td>True</td>\n",
              "      <td>False</td>\n",
              "      <td>True</td>\n",
              "      <td>...</td>\n",
              "      <td>False</td>\n",
              "      <td>False</td>\n",
              "      <td>False</td>\n",
              "      <td>False</td>\n",
              "      <td>False</td>\n",
              "      <td>True</td>\n",
              "      <td>True</td>\n",
              "      <td>True</td>\n",
              "      <td>True</td>\n",
              "      <td>False</td>\n",
              "    </tr>\n",
              "    <tr>\n",
              "      <th>8278</th>\n",
              "      <td>False</td>\n",
              "      <td>True</td>\n",
              "      <td>False</td>\n",
              "      <td>True</td>\n",
              "      <td>False</td>\n",
              "      <td>True</td>\n",
              "      <td>True</td>\n",
              "      <td>True</td>\n",
              "      <td>False</td>\n",
              "      <td>False</td>\n",
              "      <td>...</td>\n",
              "      <td>False</td>\n",
              "      <td>False</td>\n",
              "      <td>False</td>\n",
              "      <td>False</td>\n",
              "      <td>False</td>\n",
              "      <td>True</td>\n",
              "      <td>True</td>\n",
              "      <td>True</td>\n",
              "      <td>True</td>\n",
              "      <td>False</td>\n",
              "    </tr>\n",
              "    <tr>\n",
              "      <th>8279</th>\n",
              "      <td>False</td>\n",
              "      <td>True</td>\n",
              "      <td>False</td>\n",
              "      <td>True</td>\n",
              "      <td>False</td>\n",
              "      <td>False</td>\n",
              "      <td>False</td>\n",
              "      <td>True</td>\n",
              "      <td>False</td>\n",
              "      <td>True</td>\n",
              "      <td>...</td>\n",
              "      <td>False</td>\n",
              "      <td>False</td>\n",
              "      <td>False</td>\n",
              "      <td>False</td>\n",
              "      <td>False</td>\n",
              "      <td>True</td>\n",
              "      <td>True</td>\n",
              "      <td>True</td>\n",
              "      <td>True</td>\n",
              "      <td>False</td>\n",
              "    </tr>\n",
              "    <tr>\n",
              "      <th>8280</th>\n",
              "      <td>False</td>\n",
              "      <td>True</td>\n",
              "      <td>False</td>\n",
              "      <td>True</td>\n",
              "      <td>False</td>\n",
              "      <td>True</td>\n",
              "      <td>True</td>\n",
              "      <td>True</td>\n",
              "      <td>False</td>\n",
              "      <td>False</td>\n",
              "      <td>...</td>\n",
              "      <td>False</td>\n",
              "      <td>False</td>\n",
              "      <td>False</td>\n",
              "      <td>False</td>\n",
              "      <td>False</td>\n",
              "      <td>True</td>\n",
              "      <td>True</td>\n",
              "      <td>True</td>\n",
              "      <td>True</td>\n",
              "      <td>False</td>\n",
              "    </tr>\n",
              "  </tbody>\n",
              "</table>\n",
              "<p>8281 rows × 101 columns</p>\n",
              "</div>"
            ],
            "text/plain": [
              "      First Packet  Last Packet  Action  Reason  Initiator IP  \\\n",
              "0            False         True   False    True         False   \n",
              "1            False         True   False    True         False   \n",
              "2            False         True   False    True         False   \n",
              "3            False         True   False    True         False   \n",
              "4            False         True   False    True         False   \n",
              "...            ...          ...     ...     ...           ...   \n",
              "8276         False         True   False    True         False   \n",
              "8277         False         True   False    True         False   \n",
              "8278         False         True   False    True         False   \n",
              "8279         False         True   False    True         False   \n",
              "8280         False         True   False    True         False   \n",
              "\n",
              "      Initiator Continent  Initiator Country  Initiator User  Responder IP  \\\n",
              "0                    True               True           False         False   \n",
              "1                    True               True           False         False   \n",
              "2                    True               True           False         False   \n",
              "3                    True               True           False         False   \n",
              "4                    True               True           False         False   \n",
              "...                   ...                ...             ...           ...   \n",
              "8276                 True               True            True         False   \n",
              "8277                False              False            True         False   \n",
              "8278                 True               True            True         False   \n",
              "8279                False              False            True         False   \n",
              "8280                 True               True            True         False   \n",
              "\n",
              "      Responder Continent  ...  QoS-Dropped Responder Packets  \\\n",
              "0                   False  ...                          False   \n",
              "1                   False  ...                          False   \n",
              "2                   False  ...                          False   \n",
              "3                   False  ...                          False   \n",
              "4                   False  ...                          False   \n",
              "...                   ...  ...                            ...   \n",
              "8276                False  ...                          False   \n",
              "8277                 True  ...                          False   \n",
              "8278                False  ...                          False   \n",
              "8279                 True  ...                          False   \n",
              "8280                False  ...                          False   \n",
              "\n",
              "      Initiator Bytes  Responder Bytes  QoS-Dropped Initiator Bytes  \\\n",
              "0               False            False                        False   \n",
              "1               False            False                        False   \n",
              "2               False            False                        False   \n",
              "3               False            False                        False   \n",
              "4               False            False                        False   \n",
              "...               ...              ...                          ...   \n",
              "8276            False            False                        False   \n",
              "8277            False            False                        False   \n",
              "8278            False            False                        False   \n",
              "8279            False            False                        False   \n",
              "8280            False            False                        False   \n",
              "\n",
              "      QoS-Dropped Responder Bytes  Source IP Dynamic Attribute  \\\n",
              "0                           False                        False   \n",
              "1                           False                         True   \n",
              "2                           False                         True   \n",
              "3                           False                         True   \n",
              "4                           False                         True   \n",
              "...                           ...                          ...   \n",
              "8276                        False                         True   \n",
              "8277                        False                         True   \n",
              "8278                        False                         True   \n",
              "8279                        False                         True   \n",
              "8280                        False                         True   \n",
              "\n",
              "      Destination IP Dynamic Attribute  Unnamed: 98  Unnamed: 99  \\\n",
              "0                                False         True         True   \n",
              "1                                 True         True         True   \n",
              "2                                 True         True         True   \n",
              "3                                 True         True         True   \n",
              "4                                 True         True         True   \n",
              "...                                ...          ...          ...   \n",
              "8276                              True         True         True   \n",
              "8277                              True         True         True   \n",
              "8278                              True         True         True   \n",
              "8279                              True         True         True   \n",
              "8280                              True         True         True   \n",
              "\n",
              "      Source Port / ICMP Type  \n",
              "0                       False  \n",
              "1                       False  \n",
              "2                       False  \n",
              "3                       False  \n",
              "4                       False  \n",
              "...                       ...  \n",
              "8276                    False  \n",
              "8277                    False  \n",
              "8278                    False  \n",
              "8279                    False  \n",
              "8280                    False  \n",
              "\n",
              "[8281 rows x 101 columns]"
            ]
          },
          "execution_count": 9,
          "metadata": {},
          "output_type": "execute_result"
        }
      ],
      "source": [
        "# True represents no value, Flase represents a value\n",
        "import seaborn as sns\n",
        "df.isnull()"
      ]
    },
    {
      "cell_type": "code",
      "execution_count": null,
      "id": "99a4b065",
      "metadata": {
        "id": "99a4b065"
      },
      "outputs": [],
      "source": [
        "# Filling the empty column with the most frequent value\n",
        "df = df.fillna(df.mode().iloc[0])"
      ]
    },
    {
      "cell_type": "code",
      "execution_count": null,
      "id": "c11c56e0",
      "metadata": {
        "id": "c11c56e0",
        "outputId": "00bf8579-6af1-4006-f11c-01c1a9cef884"
      },
      "outputs": [
        {
          "data": {
            "image/png": "[encoded data removed]",
            "text/plain": [
              "<Figure size 1296x576 with 2 Axes>"
            ]
          },
          "metadata": {
            "needs_background": "light"
          },
          "output_type": "display_data"
        }
      ],
      "source": [
        "import matplotlib.pyplot as plt\n",
        "import seaborn as sns\n",
        "# visualize frequency distribution of income variable\n",
        "\n",
        "f,ax=plt.subplots(1,2,figsize=(18,8))\n",
        "\n",
        "ax[0] = df['Action'].value_counts().plot.pie(explode=[0,0],autopct='%1.1f%%',ax=ax[0],shadow=True)\n",
        "ax[0].set_title('MALWARE')\n",
        "\n",
        "\n",
        "#f, ax = plt.subplots(figsize=(6, 8))\n",
        "ax[1] = sns.countplot(x=\"Action\", data=df, palette=\"Set1\")\n",
        "ax[1].set_title(\"MALWARE ANALYSIS\")\n",
        "\n",
        "plt.show()"
      ]
    },
    {
      "cell_type": "code",
      "execution_count": null,
      "id": "81c50312",
      "metadata": {
        "id": "81c50312",
        "outputId": "32c6f042-5077-4317-8812-4e6ab13aeb75"
      },
      "outputs": [
        {
          "data": {
            "image/png": "[encoded data removed]",
            "text/plain": [
              "<Figure size 576x432 with 1 Axes>"
            ]
          },
          "metadata": {
            "needs_background": "light"
          },
          "output_type": "display_data"
        }
      ],
      "source": [
        "# Plotting the bars horizontally\n",
        "f, ax = plt.subplots(figsize=(8, 6))\n",
        "ax = sns.countplot(y=\"Action\", data=df, palette=\"Set1\")\n",
        "ax.set_title(\"MALWARE ANALYSIS\")\n",
        "plt.show()"
      ]
    },
    {
      "cell_type": "code",
      "execution_count": null,
      "id": "0b3ed4b3",
      "metadata": {
        "id": "0b3ed4b3",
        "outputId": "e0616056-71d9-4f19-cabe-cba1fa1ec031"
      },
      "outputs": [
        {
          "name": "stderr",
          "output_type": "stream",
          "text": [
            "C:\\Users\\Admin\\anaconda3\\lib\\site-packages\\seaborn\\_decorators.py:36: FutureWarning: Pass the following variable as a keyword arg: x. From version 0.12, the only valid positional argument will be `data`, and passing other arguments without an explicit keyword will result in an error or misinterpretation.\n",
            "  warnings.warn(\n"
          ]
        },
        {
          "data": {
            "image/png": "[encoded data removed]",
            "text/plain": [
              "<Figure size 720x576 with 1 Axes>"
            ]
          },
          "metadata": {
            "needs_background": "light"
          },
          "output_type": "display_data"
        }
      ],
      "source": [
        "# Checking for the outliers\n",
        "f, ax = plt.subplots(figsize=(10,8))\n",
        "x = df['Intrusion Events']\n",
        "ax = sns.boxplot(x)\n",
        "ax.set_title(\"Visualize outliers in Action variable\")\n",
        "plt.show()"
      ]
    },
    {
      "cell_type": "code",
      "execution_count": null,
      "id": "075a8186",
      "metadata": {
        "id": "075a8186"
      },
      "outputs": [],
      "source": [
        "cols = ['First Packet', 'Last Packet','Reason', 'Initiator User','Initiator Continent',\n",
        "       'Responder IP', 'Responder Continent', 'Responder Country',\n",
        "       'Original Client IP', 'Original Client Continent',\n",
        "       'Original Client Country', 'Security Intelligence Category','Client',\n",
        "       'Ingress Security Zone', 'Egress Security Zone',\n",
        "        'Destination Port / ICMP Code', 'SSL Status',\n",
        "       'SSL Flow Error', 'SSL Actual Action', 'SSL Expected Action',\n",
        "       'SSL Certificate Status', 'SSL Version', 'SSL Cipher Suite',\n",
        "       'SSL Policy', 'SSL Rule', 'SSL Session ID', 'SSL Ticket ID',\n",
        "       'SSL Flow Flags', 'SSL Flow Messages',\n",
        "       'Application Protocol Category', 'Application Protocol Tag',\n",
        "       'Client Version', 'Client Category', 'Client Tag',\n",
        "       'Web Application Category', 'Web Application Tag', 'Application Risk',\n",
        "       'Business Relevance',  'URL Reputation',\n",
        "       'DNS Query', 'DNS Response', 'DNS Record Type', 'DNS TTL',\n",
        "       'DNS Sinkhole Name', 'HTTP Response Code', 'VLAN ID', 'Referenced Host',\n",
        "       'User Agent', 'HTTP Referrer', 'IOC', 'Intrusion Events', 'Files',\n",
        "       'Access Control Policy', 'Access Control Rule','Source Port / ICMP Type',\n",
        "       'Network Analysis Policy', 'Prefilter Policy', 'Tunnel/Prefilter Rule',\n",
        "       'QoS Policy', 'QoS Rule', 'Source SGT', 'Destination SGT','Web Application',\n",
        "       'Endpoint Profile', 'Endpoint Location', 'Device',\n",
        "       'Egress Interface', 'Ingress Virtual Router', 'Egress Virtual Router',\n",
        "       'QoS-Applied Interface', 'Source Device', 'TCP Flags',\n",
        "       'Netflow Source Autonomous System',\n",
        "       'Netflow Destination Autonomous System', 'Netflow SNMP Input',\n",
        "       'Netflow SNMP Output', 'Netflow Source TOS', 'Netflow Destination TOS',\n",
        "       'Netflow Source Prefix', 'Netflow Destination Prefix', 'NetBIOS Domain',\n",
        "        'Responder Packets',\n",
        "       'QoS-Dropped Initiator Packets', 'QoS-Dropped Responder Packets',\n",
        "        'Responder Bytes', 'QoS-Dropped Initiator Bytes',\n",
        "       'QoS-Dropped Responder Bytes', 'Source IP Dynamic Attribute',\n",
        "       'Destination IP Dynamic Attribute' ]\n",
        "\n",
        "# Dropping the unwanted columns\n",
        "df2 = df.drop(cols, axis=1)"
      ]
    },
    {
      "cell_type": "code",
      "execution_count": null,
      "id": "77f761e7",
      "metadata": {
        "id": "77f761e7",
        "outputId": "191cd123-8299-41e5-8c7f-96660b3c79d4"
      },
      "outputs": [
        {
          "name": "stdout",
          "output_type": "stream",
          "text": [
            "      Action    Initiator IP Initiator Country  Source Port   \\\n",
            "0          0      10.41.1.12               USA         38367   \n",
            "1          0     10.41.0.145               USA             8   \n",
            "2          0       10.41.1.8               USA         49178   \n",
            "3          0     10.41.0.204               USA         56176   \n",
            "4          0     10.41.0.208               USA         37584   \n",
            "...      ...             ...               ...           ...   \n",
            "8276       0     10.41.0.193               USA          2720   \n",
            "8277       1  183.211.186.29               CHN          4771   \n",
            "8278       0     10.41.0.193               USA          2721   \n",
            "8279       1   111.9.169.224               CHN         53189   \n",
            "8280       0     10.41.0.193               USA          2722   \n",
            "\n",
            "     Application Protocol                                URL  \\\n",
            "0                   HTTPS  https://central.attendance.gov.in   \n",
            "1                    ICMP  https://central.attendance.gov.in   \n",
            "2                   HTTPS  https://central.attendance.gov.in   \n",
            "3                     SSL            https://supl.google.com   \n",
            "4                     NTP  https://central.attendance.gov.in   \n",
            "...                   ...                                ...   \n",
            "8276                HTTPS  https://drdlhyb.attendance.gov.in   \n",
            "8277                HTTPS  https://central.attendance.gov.in   \n",
            "8278                HTTPS  https://drdlhyb.attendance.gov.in   \n",
            "8279                HTTPS  https://central.attendance.gov.in   \n",
            "8280                HTTPS            https://play.google.com   \n",
            "\n",
            "                    URL Category  IngressInterface  Initiator Packets  \\\n",
            "0             Government and Law                 0                  1   \n",
            "1             Government and Law                 0                  1   \n",
            "2             Government and Law                 0                  1   \n",
            "3     Search Engines and Portals                 0                  3   \n",
            "4             Government and Law                 0                  1   \n",
            "...                          ...               ...                ...   \n",
            "8276          Government and Law                 0                  3   \n",
            "8277          Government and Law                 1                  0   \n",
            "8278          Government and Law                 0                  3   \n",
            "8279          Government and Law                 1                  0   \n",
            "8280      Computers and Internet                 0                  3   \n",
            "\n",
            "      Initiator Bytes  Unnamed: 98  Unnamed: 99  \n",
            "0                  74          NaN          NaN  \n",
            "1                  98          NaN          NaN  \n",
            "2                  74          NaN          NaN  \n",
            "3                 291          NaN          NaN  \n",
            "4                  90          NaN          NaN  \n",
            "...               ...          ...          ...  \n",
            "8276              691          NaN          NaN  \n",
            "8277                0          NaN          NaN  \n",
            "8278              691          NaN          NaN  \n",
            "8279                0          NaN          NaN  \n",
            "8280              691          NaN          NaN  \n",
            "\n",
            "[8281 rows x 12 columns]\n"
          ]
        }
      ],
      "source": [
        "# Printing the required columns\n",
        "print(df2)"
      ]
    },
    {
      "cell_type": "code",
      "execution_count": null,
      "id": "91267c2c",
      "metadata": {
        "id": "91267c2c",
        "outputId": "cc0b1ad5-9012-414f-e5b1-5f210e948cd9"
      },
      "outputs": [
        {
          "data": {
            "text/plain": [
              "(8281, 12)"
            ]
          },
          "execution_count": 16,
          "metadata": {},
          "output_type": "execute_result"
        }
      ],
      "source": [
        "#Printing the dimensions of the data\n",
        "df2.shape"
      ]
    },
    {
      "cell_type": "code",
      "execution_count": null,
      "id": "85bb1608",
      "metadata": {
        "id": "85bb1608",
        "outputId": "1c7ec0bd-4785-423c-f1f4-b151b79e03d9"
      },
      "outputs": [
        {
          "data": {
            "text/html": [
              "<div>\n",
              "<style scoped>\n",
              "    .dataframe tbody tr th:only-of-type {\n",
              "        vertical-align: middle;\n",
              "    }\n",
              "\n",
              "    .dataframe tbody tr th {\n",
              "        vertical-align: top;\n",
              "    }\n",
              "\n",
              "    .dataframe thead th {\n",
              "        text-align: right;\n",
              "    }\n",
              "</style>\n",
              "<table border=\"1\" class=\"dataframe\">\n",
              "  <thead>\n",
              "    <tr style=\"text-align: right;\">\n",
              "      <th></th>\n",
              "      <th>Action</th>\n",
              "      <th>Initiator IP</th>\n",
              "      <th>Initiator Country</th>\n",
              "      <th>Source Port</th>\n",
              "      <th>Application Protocol</th>\n",
              "      <th>URL</th>\n",
              "      <th>URL Category</th>\n",
              "      <th>IngressInterface</th>\n",
              "      <th>Initiator Packets</th>\n",
              "      <th>Initiator Bytes</th>\n",
              "      <th>Unnamed: 98</th>\n",
              "      <th>Unnamed: 99</th>\n",
              "    </tr>\n",
              "  </thead>\n",
              "  <tbody>\n",
              "    <tr>\n",
              "      <th>0</th>\n",
              "      <td>0</td>\n",
              "      <td>10.41.1.12</td>\n",
              "      <td>USA</td>\n",
              "      <td>38367</td>\n",
              "      <td>HTTPS</td>\n",
              "      <td>https://central.attendance.gov.in</td>\n",
              "      <td>Government and Law</td>\n",
              "      <td>0</td>\n",
              "      <td>1</td>\n",
              "      <td>74</td>\n",
              "      <td>NaN</td>\n",
              "      <td>NaN</td>\n",
              "    </tr>\n",
              "    <tr>\n",
              "      <th>1</th>\n",
              "      <td>0</td>\n",
              "      <td>10.41.0.145</td>\n",
              "      <td>USA</td>\n",
              "      <td>8</td>\n",
              "      <td>ICMP</td>\n",
              "      <td>https://central.attendance.gov.in</td>\n",
              "      <td>Government and Law</td>\n",
              "      <td>0</td>\n",
              "      <td>1</td>\n",
              "      <td>98</td>\n",
              "      <td>NaN</td>\n",
              "      <td>NaN</td>\n",
              "    </tr>\n",
              "    <tr>\n",
              "      <th>2</th>\n",
              "      <td>0</td>\n",
              "      <td>10.41.1.8</td>\n",
              "      <td>USA</td>\n",
              "      <td>49178</td>\n",
              "      <td>HTTPS</td>\n",
              "      <td>https://central.attendance.gov.in</td>\n",
              "      <td>Government and Law</td>\n",
              "      <td>0</td>\n",
              "      <td>1</td>\n",
              "      <td>74</td>\n",
              "      <td>NaN</td>\n",
              "      <td>NaN</td>\n",
              "    </tr>\n",
              "    <tr>\n",
              "      <th>3</th>\n",
              "      <td>0</td>\n",
              "      <td>10.41.0.204</td>\n",
              "      <td>USA</td>\n",
              "      <td>56176</td>\n",
              "      <td>SSL</td>\n",
              "      <td>https://supl.google.com</td>\n",
              "      <td>Search Engines and Portals</td>\n",
              "      <td>0</td>\n",
              "      <td>3</td>\n",
              "      <td>291</td>\n",
              "      <td>NaN</td>\n",
              "      <td>NaN</td>\n",
              "    </tr>\n",
              "    <tr>\n",
              "      <th>4</th>\n",
              "      <td>0</td>\n",
              "      <td>10.41.0.208</td>\n",
              "      <td>USA</td>\n",
              "      <td>37584</td>\n",
              "      <td>NTP</td>\n",
              "      <td>https://central.attendance.gov.in</td>\n",
              "      <td>Government and Law</td>\n",
              "      <td>0</td>\n",
              "      <td>1</td>\n",
              "      <td>90</td>\n",
              "      <td>NaN</td>\n",
              "      <td>NaN</td>\n",
              "    </tr>\n",
              "  </tbody>\n",
              "</table>\n",
              "</div>"
            ],
            "text/plain": [
              "   Action Initiator IP Initiator Country  Source Port  Application Protocol  \\\n",
              "0       0   10.41.1.12               USA         38367                HTTPS   \n",
              "1       0  10.41.0.145               USA             8                 ICMP   \n",
              "2       0    10.41.1.8               USA         49178                HTTPS   \n",
              "3       0  10.41.0.204               USA         56176                  SSL   \n",
              "4       0  10.41.0.208               USA         37584                  NTP   \n",
              "\n",
              "                                 URL                URL Category  \\\n",
              "0  https://central.attendance.gov.in          Government and Law   \n",
              "1  https://central.attendance.gov.in          Government and Law   \n",
              "2  https://central.attendance.gov.in          Government and Law   \n",
              "3            https://supl.google.com  Search Engines and Portals   \n",
              "4  https://central.attendance.gov.in          Government and Law   \n",
              "\n",
              "   IngressInterface  Initiator Packets  Initiator Bytes  Unnamed: 98  \\\n",
              "0                 0                  1               74          NaN   \n",
              "1                 0                  1               98          NaN   \n",
              "2                 0                  1               74          NaN   \n",
              "3                 0                  3              291          NaN   \n",
              "4                 0                  1               90          NaN   \n",
              "\n",
              "   Unnamed: 99  \n",
              "0          NaN  \n",
              "1          NaN  \n",
              "2          NaN  \n",
              "3          NaN  \n",
              "4          NaN  "
            ]
          },
          "execution_count": 17,
          "metadata": {},
          "output_type": "execute_result"
        }
      ],
      "source": [
        "# First five rows of the dataset\n",
        "df2.head()"
      ]
    },
    {
      "cell_type": "code",
      "execution_count": null,
      "id": "820b49d2",
      "metadata": {
        "id": "820b49d2",
        "outputId": "94f0fe66-8b65-4fa6-9b2e-f8da00316fb7"
      },
      "outputs": [
        {
          "name": "stdout",
          "output_type": "stream",
          "text": [
            "Action\n",
            "0    7846\n",
            "1     435\n",
            "dtype: int64\n"
          ]
        }
      ],
      "source": [
        "# Class Distribution\n",
        "# Let’s now take a look at the number of instances (rows) that belong to each class. We can view this as an absolute count.\n",
        "print(df2.groupby('Action').size())"
      ]
    },
    {
      "cell_type": "code",
      "execution_count": null,
      "id": "ede5c3d0",
      "metadata": {
        "id": "ede5c3d0",
        "outputId": "cda2a38d-b668-4ed6-83d4-628ceb6a6b16"
      },
      "outputs": [
        {
          "data": {
            "text/plain": [
              "0    7846\n",
              "1     435\n",
              "Name: Action, dtype: int64"
            ]
          },
          "execution_count": 19,
          "metadata": {},
          "output_type": "execute_result"
        }
      ],
      "source": [
        "df2['Action'].value_counts()"
      ]
    },
    {
      "cell_type": "code",
      "execution_count": null,
      "id": "7d2d287f",
      "metadata": {
        "id": "7d2d287f",
        "outputId": "48106917-f916-48c9-f5f4-9b0c0acfd949"
      },
      "outputs": [
        {
          "name": "stderr",
          "output_type": "stream",
          "text": [
            "C:\\Users\\Admin\\anaconda3\\lib\\site-packages\\seaborn\\_decorators.py:36: FutureWarning: Pass the following variable as a keyword arg: x. From version 0.12, the only valid positional argument will be `data`, and passing other arguments without an explicit keyword will result in an error or misinterpretation.\n",
            "  warnings.warn(\n"
          ]
        },
        {
          "data": {
            "image/png": "[encoded data removed]",
            "text/plain": [
              "<Figure size 432x288 with 1 Axes>"
            ]
          },
          "metadata": {
            "needs_background": "light"
          },
          "output_type": "display_data"
        }
      ],
      "source": [
        "# Visualizing the malware and normal data\n",
        "sns.countplot(df[\"Action\"])\n",
        "plt.show()"
      ]
    },
    {
      "cell_type": "code",
      "execution_count": null,
      "id": "eb3e8e4b",
      "metadata": {
        "id": "eb3e8e4b",
        "outputId": "22c93f66-f1c6-41d7-fa92-0fe0c0761e86"
      },
      "outputs": [
        {
          "name": "stdout",
          "output_type": "stream",
          "text": [
            "<class 'pandas.core.frame.DataFrame'>\n",
            "RangeIndex: 8281 entries, 0 to 8280\n",
            "Data columns (total 12 columns):\n",
            " #   Column                Non-Null Count  Dtype  \n",
            "---  ------                --------------  -----  \n",
            " 0   Action                8281 non-null   int64  \n",
            " 1   Initiator IP          8281 non-null   object \n",
            " 2   Initiator Country     8281 non-null   object \n",
            " 3   Source Port           8281 non-null   int64  \n",
            " 4   Application Protocol  8281 non-null   object \n",
            " 5   URL                   8281 non-null   object \n",
            " 6   URL Category          8281 non-null   object \n",
            " 7   IngressInterface      8281 non-null   int64  \n",
            " 8   Initiator Packets     8281 non-null   int64  \n",
            " 9   Initiator Bytes       8281 non-null   int64  \n",
            " 10  Unnamed: 98           0 non-null      float64\n",
            " 11  Unnamed: 99           0 non-null      float64\n",
            "dtypes: float64(2), int64(5), object(5)\n",
            "memory usage: 776.5+ KB\n"
          ]
        }
      ],
      "source": [
        "df2.info()"
      ]
    },
    {
      "cell_type": "code",
      "execution_count": null,
      "id": "fb7c7c41",
      "metadata": {
        "id": "fb7c7c41",
        "outputId": "8402f424-74d5-451b-eb9c-a515fddd572a"
      },
      "outputs": [
        {
          "data": {
            "text/plain": [
              "Action                    int64\n",
              "Initiator IP             object\n",
              "Initiator Country        object\n",
              "Source Port               int64\n",
              "Application Protocol     object\n",
              "URL                      object\n",
              "URL Category             object\n",
              "IngressInterface          int64\n",
              "Initiator Packets         int64\n",
              "Initiator Bytes           int64\n",
              "Unnamed: 98             float64\n",
              "Unnamed: 99             float64\n",
              "dtype: object"
            ]
          },
          "execution_count": 22,
          "metadata": {},
          "output_type": "execute_result"
        }
      ],
      "source": [
        "# Printing the datatype of each column\n",
        "df2.dtypes"
      ]
    },
    {
      "cell_type": "code",
      "execution_count": null,
      "id": "a2f1b0ef",
      "metadata": {
        "id": "a2f1b0ef",
        "outputId": "f0c6f123-aa89-48a5-88f4-5757164efe24"
      },
      "outputs": [
        {
          "name": "stderr",
          "output_type": "stream",
          "text": [
            "C:\\Users\\Admin\\AppData\\Local\\Temp/ipykernel_6592/3375076294.py:3: FutureWarning: The default value of regex will change from True to False in a future version. In addition, single character regular expressions will *not* be treated as literal strings when regex=True.\n",
            "  df2[\"Initiator IP\"] = pd.to_numeric(df2[\"Initiator IP\"].str.replace('.', ''))\n"
          ]
        },
        {
          "data": {
            "text/plain": [
              "Action                    int64\n",
              "Initiator IP              int64\n",
              "Initiator Country        object\n",
              "Source Port               int64\n",
              "Application Protocol     object\n",
              "URL                      object\n",
              "URL Category             object\n",
              "IngressInterface          int64\n",
              "Initiator Packets         int64\n",
              "Initiator Bytes           int64\n",
              "Unnamed: 98             float64\n",
              "Unnamed: 99             float64\n",
              "dtype: object"
            ]
          },
          "execution_count": 23,
          "metadata": {},
          "output_type": "execute_result"
        }
      ],
      "source": [
        "# Converting string to float\n",
        "\n",
        "df2[\"Initiator IP\"] = pd.to_numeric(df2[\"Initiator IP\"].str.replace('.', ''))\n",
        "\n",
        "df2.dtypes"
      ]
    },
    {
      "cell_type": "code",
      "execution_count": null,
      "id": "a6fa08be",
      "metadata": {
        "id": "a6fa08be",
        "outputId": "e0aaa845-d79e-4a28-ac6d-9b1694124498"
      },
      "outputs": [
        {
          "data": {
            "text/plain": [
              "Index(['Action', 'Initiator IP', 'Initiator Country', 'Source Port ',\n",
              "       'Application Protocol', 'URL', 'URL Category', 'IngressInterface',\n",
              "       'Initiator Packets', 'Initiator Bytes', 'Unnamed: 98', 'Unnamed: 99'],\n",
              "      dtype='object')"
            ]
          },
          "execution_count": 24,
          "metadata": {},
          "output_type": "execute_result"
        }
      ],
      "source": [
        "df2.columns"
      ]
    },
    {
      "cell_type": "code",
      "execution_count": null,
      "id": "1e8ee44c",
      "metadata": {
        "id": "1e8ee44c",
        "outputId": "64f3dab3-e2d1-4007-a9bc-d15570f25044"
      },
      "outputs": [
        {
          "data": {
            "text/plain": [
              "array([[ 1041112,    38367,        0,        1,       74],\n",
              "       [10410145,        8,        0,        1,       98],\n",
              "       [  104118,    49178,        0,        1,       74],\n",
              "       [10410204,    56176,        0,        3,      291],\n",
              "       [10410208,    37584,        0,        1,       90]], dtype=int64)"
            ]
          },
          "execution_count": 25,
          "metadata": {},
          "output_type": "execute_result"
        }
      ],
      "source": [
        "# Visualizing in the form of array\n",
        "import numpy as np\n",
        "feature_df=df2[['Initiator IP','Source Port ','IngressInterface','Initiator Packets','Initiator Bytes']]\n",
        "X=np.asarray(feature_df)\n",
        "y=np.asarray(df2['Action'])\n",
        "X[0:5]"
      ]
    },
    {
      "cell_type": "code",
      "execution_count": null,
      "id": "ea5901b4",
      "metadata": {
        "id": "ea5901b4",
        "outputId": "03ad2093-d87d-4907-81c9-fa429eb58bbd"
      },
      "outputs": [
        {
          "data": {
            "text/plain": [
              "(1657,)"
            ]
          },
          "execution_count": 26,
          "metadata": {},
          "output_type": "execute_result"
        }
      ],
      "source": [
        "# Splitting the dataset into tarining and testing set\n",
        "from sklearn.model_selection import train_test_split\n",
        "from sklearn import *\n",
        "X_train,X_test,y_train,y_test=train_test_split(X,y,test_size=0.2,random_state=4)\n",
        "\n",
        "X_train.shape\n",
        "\n",
        "y_train.shape\n",
        "\n",
        "X_test.shape\n",
        "\n",
        "y_test.shape"
      ]
    },
    {
      "cell_type": "code",
      "execution_count": null,
      "id": "3e80586f",
      "metadata": {
        "id": "3e80586f",
        "outputId": "b70f46da-9715-458c-f408-c263c078b9c7"
      },
      "outputs": [
        {
          "data": {
            "text/plain": [
              "array([0, 0, 0, ..., 0, 0, 0], dtype=int64)"
            ]
          },
          "execution_count": 27,
          "metadata": {},
          "output_type": "execute_result"
        }
      ],
      "source": [
        "# import Random Forest classifier\n",
        "from sklearn.ensemble import RandomForestClassifier\n",
        "\n",
        "# instantiate the classifier\n",
        "rfc = RandomForestClassifier(n_estimators=10,random_state=0)\n",
        "\n",
        "# fit the model\n",
        "rfc.fit(X_train, y_train)\n",
        "\n",
        "# Predict the Test set results\n",
        "y_pred = rfc.predict(X_test)\n",
        "\n",
        "y_pred\n"
      ]
    },
    {
      "cell_type": "code",
      "execution_count": null,
      "id": "b29f2387",
      "metadata": {
        "id": "b29f2387",
        "outputId": "402be14b-c2e3-4d93-ab99-681f7cab5d88"
      },
      "outputs": [
        {
          "name": "stdout",
          "output_type": "stream",
          "text": [
            "Accuracy: 0.9794809897404949\n"
          ]
        }
      ],
      "source": [
        "# Model Accuracy: how often is the classifier correct?\n",
        "print(\"Accuracy:\",metrics.accuracy_score(y_test, y_pred))"
      ]
    },
    {
      "cell_type": "code",
      "execution_count": null,
      "id": "3240104a",
      "metadata": {
        "id": "3240104a",
        "outputId": "080a774d-055a-4974-f178-2bd0b163398b"
      },
      "outputs": [
        {
          "name": "stdout",
          "output_type": "stream",
          "text": [
            "              precision    recall  f1-score   support\n",
            "\n",
            "           0       0.99      0.99      0.99      1579\n",
            "           1       0.81      0.73      0.77        78\n",
            "\n",
            "    accuracy                           0.98      1657\n",
            "   macro avg       0.90      0.86      0.88      1657\n",
            "weighted avg       0.98      0.98      0.98      1657\n",
            "\n"
          ]
        }
      ],
      "source": [
        "# Showing the classification report of our model\n",
        "from sklearn.metrics import classification_report\n",
        "print(classification_report(y_test, y_pred))"
      ]
    },
    {
      "cell_type": "code",
      "execution_count": null,
      "id": "3e1d30bb",
      "metadata": {
        "id": "3e1d30bb",
        "outputId": "0e97b03c-3e06-43f8-8c9b-55f5bef081da"
      },
      "outputs": [
        {
          "name": "stdout",
          "output_type": "stream",
          "text": [
            "Confusion matrix\n",
            "\n",
            " [[1566   13]\n",
            " [  21   57]]\n"
          ]
        }
      ],
      "source": [
        "# Print the Confusion Matrix and slice it into pieces\n",
        "from sklearn.metrics import confusion_matrix\n",
        "cm = confusion_matrix(y_test, y_pred)\n",
        "print('Confusion matrix\\n\\n', cm)\n"
      ]
    },
    {
      "cell_type": "code",
      "execution_count": null,
      "id": "e16dedb3",
      "metadata": {
        "id": "e16dedb3",
        "outputId": "bdf15837-359e-41b9-8d1d-20012605c4c9"
      },
      "outputs": [
        {
          "data": {
            "text/plain": [
              "<AxesSubplot:>"
            ]
          },
          "execution_count": 31,
          "metadata": {},
          "output_type": "execute_result"
        },
        {
          "data": {
            "image/png": "[encoded data removed]",
            "text/plain": [
              "<Figure size 432x288 with 2 Axes>"
            ]
          },
          "metadata": {
            "needs_background": "light"
          },
          "output_type": "display_data"
        }
      ],
      "source": [
        "# visualize confusion matrix with seaborn heatmap\n",
        "\n",
        "cm_matrix = pd.DataFrame(data=cm, columns=['Allow:0', 'Block:1'],\n",
        "                                 index=['Allow:0','Block:1'])\n",
        "sns.heatmap(cm_matrix, annot=True, fmt='d', cmap='YlGnBu')"
      ]
    },
    {
      "cell_type": "code",
      "execution_count": null,
      "id": "bc503477",
      "metadata": {
        "id": "bc503477",
        "outputId": "625469a1-692a-42e9-9d92-939698696711"
      },
      "outputs": [
        {
          "data": {
            "text/plain": [
              "''"
            ]
          },
          "execution_count": 32,
          "metadata": {},
          "output_type": "execute_result"
        }
      ],
      "source": [
        "from tkinter import *\n",
        "root = Tk()\n",
        "root.title(\"THREAT DETECTION\")\n",
        "root.geometry('500x400')"
      ]
    },
    {
      "cell_type": "code",
      "execution_count": null,
      "id": "b9165a77",
      "metadata": {
        "id": "b9165a77"
      },
      "outputs": [],
      "source": [
        "# Labelling the input parameters\n",
        "Label(root, text=\"Initiator IP\", font=\"Times 15\").grid(row=0, column=0, padx=50, pady=10)\n",
        "Label(root, text=\"Source Port \", font=\"Times 15\").grid(row=1, column=0, padx=50, pady=10)\n",
        "Label(root, text=\"IngressInterface\", font=\"Times 15\").grid(row=2, column=0, padx=50, pady=10)\n",
        "Label(root, text=\"Initiator Packets\", font=\"Times 15\").grid(row=3, column=0, padx=50, pady=10)\n",
        "Label(root, text=\"Initiator Bytes\", font=\"Times 15\").grid(row=4, column=0, padx=50, pady=10)\n",
        "Label(root, text=\"predict\", font=\"Times 20\").grid(row=5, column=0, pady=10)"
      ]
    },
    {
      "cell_type": "code",
      "execution_count": null,
      "id": "48c55737",
      "metadata": {
        "id": "48c55737"
      },
      "outputs": [],
      "source": [
        "# Giving access to enter the input\n",
        "textbox = Text(root, height=3, width=20, )\n",
        "textbox.grid(row=5, column=1)\n",
        "\n",
        "input_text = StringVar()\n",
        "input_text1 = StringVar()\n",
        "input_text2 = StringVar()\n",
        "input_text3 = StringVar()\n",
        "input_text4 = StringVar()\n",
        "result = StringVar()\n",
        "\n",
        "e1 = Entry(root, font=1, textvariable=input_text)\n",
        "e1.grid(row=0, column=1)\n",
        "e2 = Entry(root, font=1, textvariable=input_text1)\n",
        "e2.grid(row=1, column=1)\n",
        "e3 = Entry(root, font=1, textvariable=input_text2)\n",
        "e3.grid(row=2, column=1)\n",
        "e4 = Entry(root, font=1, textvariable=input_text3)\n",
        "e4.grid(row=3, column=1)\n",
        "e5 = Entry(root, font=1, textvariable=input_text4)\n",
        "e5.grid(row=4, column=1)\n",
        "\n"
      ]
    },
    {
      "cell_type": "code",
      "execution_count": null,
      "id": "0611bd76",
      "metadata": {
        "id": "0611bd76"
      },
      "outputs": [],
      "source": [
        "def entryClear():\n",
        "    input_text.set(\"\")\n",
        "    input_text1.set(\"\")\n",
        "    input_text2.set(\"\")\n",
        "    input_text3.set(\"\")\n",
        "    input_text4.set(\"\")\n",
        "    result.set(\"\")\n",
        "    textbox.delete(1.0, END)"
      ]
    },
    {
      "cell_type": "code",
      "execution_count": null,
      "id": "0abfb1d7",
      "metadata": {
        "id": "0abfb1d7"
      },
      "outputs": [],
      "source": [
        "def getpredict():\n",
        "    lst = [float(e1.get()),float(e2.get()),float(e3.get()),float(e4.get()),float(e5.get())]\n",
        "    eg = np.array(lst)\n",
        "    eg = eg.reshape(1, -1)\n",
        "\n",
        "\n",
        "    model = RandomForestClassifier(random_state=10)\n",
        "    model.fit(X_train,y_train)\n",
        "\n",
        "    predict= model.predict(eg)\n",
        "    textbox.insert(END, predict)\n",
        "\n",
        "\n",
        "Button(root, text='Clear', font=10, width=8, bg=\"#9B0000\", fg=\"white\", command=entryClear).grid(row=6, column=0,\n",
        "                                                                                                pady=10)\n",
        "Button(root, text='predict', font=10, width=8, bg=\"#39FD03\", fg=\"white\", command=getpredict).grid(row=6, column=1,\n",
        "                                                                                                  pady=10)\n",
        "\n",
        "root.mainloop()"
      ]
    },
    {
      "cell_type": "code",
      "execution_count": null,
      "id": "aba5948c",
      "metadata": {
        "id": "aba5948c"
      },
      "outputs": [],
      "source": []
    }
  ],
  "metadata": {
    "kernelspec": {
      "display_name": "Python 3 (ipykernel)",
      "language": "python",
      "name": "python3"
    },
    "language_info": {
      "codemirror_mode": {
        "name": "ipython",
        "version": 3
      },
      "file_extension": ".py",
      "mimetype": "text/x-python",
      "name": "python",
      "nbconvert_exporter": "python",
      "pygments_lexer": "ipython3",
      "version": "3.8.8"
    },
    "colab": {
      "provenance": []
    }
  },
  "nbformat": 4,
  "nbformat_minor": 5
}